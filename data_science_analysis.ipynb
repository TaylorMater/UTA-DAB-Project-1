{
 "cells": [
  {
   "cell_type": "markdown",
   "metadata": {},
   "source": [
    "# Data Science Salary Analysis\n",
    "\n",
    "------------------------------\n",
    "\n",
    "\n",
    "Research Questions:\n",
    "\n",
    "- Salary increase/decrease from 2020-2024\n",
    "- How does the average salary vary by experience?\n",
    "- What is the breakdown of senior/mid-level/entry level jobs? Does this say anything about the job market right now?\n",
    "- What is the average salary for each job title?\n",
    "- Country totals for Data Science Jobs - Which country had the most data science jobs per capita? We can make calls to population statistics API’s to help with this. Could tell us which country has a more evolved service economy, particularly in the IT sphere. \n",
    "\n",
    "======================================================\n",
    "\n",
    "- Wich job title offers more jobs WFH vs on site\n",
    "- What is the impact of company size?\n",
    "- Does the size of the company correlate with the number of Data Science jobs\n",
    "\n",
    "\n"
   ]
  },
  {
   "cell_type": "code",
   "execution_count": null,
   "metadata": {},
   "outputs": [],
   "source": []
  },
  {
   "cell_type": "code",
   "execution_count": null,
   "metadata": {},
   "outputs": [],
   "source": []
  },
  {
   "cell_type": "markdown",
   "metadata": {},
   "source": [
    "## Salary increase/decrease from 2020-2024\n",
    "\n"
   ]
  },
  {
   "cell_type": "code",
   "execution_count": null,
   "metadata": {},
   "outputs": [],
   "source": []
  },
  {
   "cell_type": "code",
   "execution_count": null,
   "metadata": {},
   "outputs": [],
   "source": []
  },
  {
   "cell_type": "markdown",
   "metadata": {},
   "source": [
    "## Mean Salary Versus Exeperience\n",
    "\n"
   ]
  },
  {
   "cell_type": "code",
   "execution_count": null,
   "metadata": {},
   "outputs": [],
   "source": []
  },
  {
   "cell_type": "code",
   "execution_count": null,
   "metadata": {},
   "outputs": [],
   "source": []
  }
 ],
 "metadata": {
  "language_info": {
   "name": "python"
  }
 },
 "nbformat": 4,
 "nbformat_minor": 2
}
