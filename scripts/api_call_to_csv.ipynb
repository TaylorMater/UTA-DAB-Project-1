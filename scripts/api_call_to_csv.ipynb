{
 "cells": [
  {
   "cell_type": "markdown",
   "metadata": {},
   "source": [
    "The goal of this notebook is to make any api calls and save the results to a csv/json format so that we can read the responses without re-running the api calls and we don't need to track api keys. \n",
    "\n",
    "Be sure to update the .gitignore for api keys/delete the config.py if you choose to not handle things that way."
   ]
  }
 ],
 "metadata": {
  "language_info": {
   "name": "python"
  }
 },
 "nbformat": 4,
 "nbformat_minor": 2
}
