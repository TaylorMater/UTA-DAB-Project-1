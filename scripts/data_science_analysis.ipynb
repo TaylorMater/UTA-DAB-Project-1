{
 "cells": [
  {
   "cell_type": "markdown",
   "metadata": {},
   "source": [
    "# Data Science Salary Analysis\n",
    "\n",
    "------------------------------\n",
    "\n",
    "\n",
    "Research Questions and Work Breakdown:\n",
    "\n",
    "\n",
    "- Setup and config - everyone\n",
    "- Salary increase/decrease from 2020-2024 - Khadija\n",
    "- How does the average salary vary by experience? - Maria\n",
    "- What is the breakdown of senior/mid-level/entry level jobs? Does this say anything about the job market right now? - Riley, Khadija \n",
    "- What is the average salary for each job title? - Susan\n",
    "- Country totals for Data Science Jobs - Which country had the most data science jobs per capita? We can make calls to population statistics API’s to help with this. Could tell us which country has a more evolved service economy, particularly in the IT sphere.  - Riley\n",
    "- API/census notebook? - Riley\n",
    "\n",
    "\n",
    "======================================================\n",
    "\n",
    "- Wich job title offers more jobs WFH vs on site\n",
    "- What is the impact of company size?\n",
    "- Does the size of the company correlate with the number of Data Science jobs\n",
    "\n",
    "\n"
   ]
  },
  {
   "cell_type": "code",
   "execution_count": 1,
   "metadata": {},
   "outputs": [],
   "source": [
    "# Dependencies and Setup\n",
    "import matplotlib.pyplot as plt\n",
    "import pandas as pd\n",
    "import numpy as np\n",
    "import requests\n",
    "import json\n",
    "import time\n",
    "from scipy.stats import linregress\n",
    "from pathlib import Path"
   ]
  },
  {
   "cell_type": "code",
   "execution_count": 2,
   "metadata": {},
   "outputs": [],
   "source": [
    "data_science_csv_file_path = Path(\"../resources/data_science_salaries.csv\")\n",
    "\n",
    "data_science_salaries_df = pd.read_csv(data_science_csv_file_path)\n",
    "\n",
    "data_science_salaries_df.head()"
   ]
  },
  {
   "cell_type": "markdown",
   "metadata": {},
   "source": [
    "## Salary increase/decrease from 2020-2024\n",
    "\n"
   ]
  },
  {
   "cell_type": "code",
   "execution_count": null,
   "metadata": {},
   "outputs": [],
   "source": []
  },
  {
   "cell_type": "code",
   "execution_count": null,
   "metadata": {},
   "outputs": [],
   "source": []
  },
  {
   "cell_type": "code",
   "execution_count": null,
   "metadata": {},
   "outputs": [],
   "source": []
  },
  {
   "cell_type": "code",
   "execution_count": null,
   "metadata": {},
   "outputs": [],
   "source": []
  },
  {
   "cell_type": "code",
   "execution_count": null,
   "metadata": {},
   "outputs": [],
   "source": []
  },
  {
   "cell_type": "code",
   "execution_count": null,
   "metadata": {},
   "outputs": [],
   "source": []
  },
  {
   "cell_type": "markdown",
   "metadata": {},
   "source": [
    "## Mean Salary Versus Exeperience\n",
    "\n"
   ]
  },
  {
   "cell_type": "code",
   "execution_count": null,
   "metadata": {},
   "outputs": [],
   "source": []
  },
  {
   "cell_type": "code",
   "execution_count": null,
   "metadata": {},
   "outputs": [],
   "source": []
  },
  {
   "cell_type": "code",
   "execution_count": null,
   "metadata": {},
   "outputs": [],
   "source": []
  },
  {
   "cell_type": "code",
   "execution_count": null,
   "metadata": {},
   "outputs": [],
   "source": []
  },
  {
   "cell_type": "code",
   "execution_count": null,
   "metadata": {},
   "outputs": [],
   "source": []
  },
  {
   "cell_type": "code",
   "execution_count": null,
   "metadata": {},
   "outputs": [],
   "source": []
  },
  {
   "cell_type": "markdown",
   "metadata": {},
   "source": [
    "## Breakdown of Jobs by Experience"
   ]
  },
  {
   "cell_type": "code",
   "execution_count": null,
   "metadata": {},
   "outputs": [],
   "source": []
  },
  {
   "cell_type": "code",
   "execution_count": null,
   "metadata": {},
   "outputs": [],
   "source": []
  },
  {
   "cell_type": "code",
   "execution_count": null,
   "metadata": {},
   "outputs": [],
   "source": []
  },
  {
   "cell_type": "code",
   "execution_count": null,
   "metadata": {},
   "outputs": [],
   "source": []
  },
  {
   "cell_type": "code",
   "execution_count": null,
   "metadata": {},
   "outputs": [],
   "source": []
  },
  {
   "cell_type": "code",
   "execution_count": null,
   "metadata": {},
   "outputs": [],
   "source": []
  },
  {
   "cell_type": "markdown",
   "metadata": {},
   "source": [
    "## Mean Salary Versus Job Title\n",
    "\n"
   ]
  },
  {
   "cell_type": "code",
   "execution_count": null,
   "metadata": {},
   "outputs": [],
   "source": []
  },
  {
   "cell_type": "code",
   "execution_count": null,
   "metadata": {},
   "outputs": [],
   "source": []
  },
  {
   "cell_type": "code",
   "execution_count": null,
   "metadata": {},
   "outputs": [],
   "source": []
  },
  {
   "cell_type": "code",
   "execution_count": null,
   "metadata": {},
   "outputs": [],
   "source": []
  },
  {
   "cell_type": "code",
   "execution_count": null,
   "metadata": {},
   "outputs": [],
   "source": []
  },
  {
   "cell_type": "code",
   "execution_count": null,
   "metadata": {},
   "outputs": [],
   "source": []
  },
  {
   "cell_type": "markdown",
   "metadata": {},
   "source": [
    "## Which country had the most data science jobs per capita? "
   ]
  },
  {
   "cell_type": "markdown",
   "metadata": {},
   "source": [
    "# Markdown cheatsheet (double click on the cell to see the different formatting commands)\n",
    "\n",
    "\n",
    "## Big title\n",
    "\n",
    "\n",
    "\n",
    "### Typical title\n",
    "\n",
    "\n",
    "\n",
    "* bullet point\n",
    "* blah blah blah\n",
    "\n",
    "\n",
    "\n",
    "1. hello\n",
    "2. this\n",
    "3. is \n",
    "4. numbered\n",
    "\n",
    "\n",
    "**hello**\n",
    "\n",
    "\n",
    "*hello again*\n",
    "\n",
    "\n",
    "> blockquote thing goes here\n",
    "\n",
    "\n",
    "`code stuff`\n",
    "\n",
    "\n",
    "\n",
    "```\n",
    "{\n",
    "    code stuff:\n",
    "        but\n",
    "\n",
    "    more complicated\n",
    "}\n",
    "```\n",
    "\n",
    "\n",
    "~~strikethrough text here~~ \n",
    "\n",
    "\n",
    "\n",
    "### My Great Heading\n",
    "\n",
    "\n",
    "term\n",
    ": definition\n",
    "\n",
    "\n",
    "==highlighted text==\n",
    "\n",
    "\n",
    "Task List:\n",
    "\n",
    "- [x] Write the press release\n",
    "- [ ] Update the website\n",
    "- [ ] Contact the media\n",
    "\n",
    "\n",
    "Subscript\tH~2~O\n",
    "Superscript\tX^2^\n",
    "\n",
    "Horizontal separator:\n",
    "\n",
    "----------------------------------\n",
    "\n",
    "Check the link below for more advanced/extended guides. \n",
    "\n",
    "[Link to markdown cheatsheet](https://www.markdownguide.org/cheat-sheet/)\n",
    "\n",
    "[Link to another section in this notebook](#my-great-heading)\n",
    "\n",
    "\n",
    "\n",
    "You can embed images as well by using ![some text](image_file_name)\n",
    "\n",
    "Body text: Lorem ipsum dolor sit amet, consectetur adipiscing elit, sed do eiusmod tempor incididunt ut labore et dolore magna aliqua. Ut enim ad minim veniam, quis nostrud exercitation ullamco laboris nisi ut aliquip ex ea commodo consequat. Duis aute irure dolor in reprehenderit in voluptate velit esse cillum dolore eu fugiat nulla pariatur. Excepteur sint occaecat cupidatat non proident, sunt in culpa qui officia deserunt mollit anim id est laborum."
   ]
  },
  {
   "cell_type": "code",
   "execution_count": null,
   "metadata": {},
   "outputs": [],
   "source": []
  },
  {
   "cell_type": "code",
   "execution_count": null,
   "metadata": {},
   "outputs": [],
   "source": []
  },
  {
   "cell_type": "code",
   "execution_count": null,
   "metadata": {},
   "outputs": [],
   "source": []
  },
  {
   "cell_type": "code",
   "execution_count": null,
   "metadata": {},
   "outputs": [],
   "source": []
  },
  {
   "cell_type": "code",
   "execution_count": null,
   "metadata": {},
   "outputs": [],
   "source": []
  },
  {
   "cell_type": "code",
   "execution_count": null,
   "metadata": {},
   "outputs": [],
   "source": []
  }
 ],
 "metadata": {
  "kernelspec": {
   "display_name": "dev",
   "language": "python",
   "name": "python3"
  },
  "language_info": {
   "codemirror_mode": {
    "name": "ipython",
    "version": 3
   },
   "file_extension": ".py",
   "mimetype": "text/x-python",
   "name": "python",
   "nbconvert_exporter": "python",
   "pygments_lexer": "ipython3",
   "version": "3.10.13"
  }
 },
 "nbformat": 4,
 "nbformat_minor": 2
}
