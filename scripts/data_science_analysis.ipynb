{
 "cells": [
  {
   "cell_type": "markdown",
   "metadata": {},
   "source": [
    "# Data Science Salary Analysis\n",
    "\n",
    "------------------------------\n",
    "\n",
    "\n",
    "Research Questions and Work Breakdown:\n",
    "\n",
    "\n",
    "- Setup and config - everyone\n",
    "- Salary increase/decrease from 2020-2024 - Khadija\n",
    "- How does the average salary vary by experience? - Maria\n",
    "- What is the breakdown of senior/mid-level/entry level jobs? Does this say anything about the job market right now? - Riley, Khadija \n",
    "- What is the average salary for each job title? - Susan\n",
    "- Country totals for Data Science Jobs - Which country had the most data science jobs per capita? We can make calls to population statistics API’s to help with this. Could tell us which country has a more evolved service economy, particularly in the IT sphere.  - Riley\n",
    "- API/census notebook? - Riley\n",
    "\n",
    "\n",
    "======================================================\n",
    "\n",
    "- Wich job title offers more jobs WFH vs on site\n",
    "- What is the impact of company size?\n",
    "- Does the size of the company correlate with the number of Data Science jobs\n",
    "\n",
    "\n"
   ]
  },
  {
   "cell_type": "code",
   "execution_count": 1,
   "metadata": {},
   "outputs": [],
   "source": [
    "# Dependencies and Setup\n",
    "import matplotlib.pyplot as plt\n",
    "import pandas as pd\n",
    "import numpy as np\n",
    "import requests\n",
    "import json\n",
    "import time\n",
    "from scipy.stats import linregress\n",
    "from pathlib import Path"
   ]
  },
  {
   "cell_type": "code",
   "execution_count": 2,
   "metadata": {},
   "outputs": [],
   "source": [
    "data_science_csv_file_path = Path(\"../resources/data_science_salaries.csv\")\n",
    "\n",
    "data_science_salaries_df = pd.read_csv(data_science_csv_file_path)\n",
    "\n",
    "data_science_salaries_df.head()"
   ]
  },
  {
   "cell_type": "markdown",
   "metadata": {},
   "source": [
    "## Salary increase/decrease from 2020-2024\n",
    "\n"
   ]
  },
  {
   "cell_type": "code",
   "execution_count": null,
   "metadata": {},
   "outputs": [],
   "source": []
  },
  {
   "cell_type": "code",
   "execution_count": null,
   "metadata": {},
   "outputs": [],
   "source": []
  },
  {
   "cell_type": "markdown",
   "metadata": {},
   "source": [
    "## Mean Salary Versus Exeperience\n",
    "\n"
   ]
  },
  {
   "cell_type": "code",
   "execution_count": null,
   "metadata": {},
   "outputs": [],
   "source": []
  },
  {
   "cell_type": "code",
   "execution_count": null,
   "metadata": {},
   "outputs": [],
   "source": []
  }
 ],
 "metadata": {
  "kernelspec": {
   "display_name": "dev",
   "language": "python",
   "name": "python3"
  },
  "language_info": {
   "codemirror_mode": {
    "name": "ipython",
    "version": 3
   },
   "file_extension": ".py",
   "mimetype": "text/x-python",
   "name": "python",
   "nbconvert_exporter": "python",
   "pygments_lexer": "ipython3",
   "version": "3.10.13"
  }
 },
 "nbformat": 4,
 "nbformat_minor": 2
}
