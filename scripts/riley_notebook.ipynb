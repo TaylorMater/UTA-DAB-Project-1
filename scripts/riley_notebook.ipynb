{
 "cells": [
  {
   "cell_type": "markdown",
   "metadata": {},
   "source": [
    "## Which country had the most data science jobs per capita? "
   ]
  },
  {
   "cell_type": "code",
   "execution_count": null,
   "metadata": {},
   "outputs": [],
   "source": [
    "# Dependencies and Setup\n",
    "import matplotlib.pyplot as plt\n",
    "import pandas as pd\n",
    "import numpy as np\n",
    "import requests\n",
    "import json\n",
    "import time\n",
    "from scipy.stats import linregress\n",
    "from pathlib import Path"
   ]
  },
  {
   "cell_type": "code",
   "execution_count": null,
   "metadata": {},
   "outputs": [],
   "source": [
    "data_science_csv_file_path = Path(\"../resources/data_science_salaries.csv\")\n",
    "\n",
    "data_science_salaries_df = pd.read_csv(data_science_csv_file_path)\n",
    "\n",
    "data_science_salaries_df.head()"
   ]
  },
  {
   "cell_type": "code",
   "execution_count": null,
   "metadata": {},
   "outputs": [],
   "source": [
    "#which country had the most data science jobs per capita\n",
    "#re-init the data_science_salaries_df\n",
    "\n",
    "\n",
    "data_science_salaries_df = pd.read_csv(data_science_csv_file_path)\n",
    "data_science_salaries_df.head()"
   ]
  },
  {
   "cell_type": "code",
   "execution_count": null,
   "metadata": {},
   "outputs": [],
   "source": [
    "#copying to a separate dataframe to prevent naming collisions, selecting columns as a subset\n",
    "\n",
    "country_job_total_df = data_science_salaries_df.copy()\n",
    "country_job_total_df = country_job_total_df[['employment_type', 'work_year', 'employee_residence', 'company_location', 'salary_in_usd']]\n",
    "country_job_total_df.head()"
   ]
  },
  {
   "cell_type": "code",
   "execution_count": null,
   "metadata": {},
   "outputs": [],
   "source": [
    "#\n",
    "\n",
    "# country_job_total_df = "
   ]
  }
 ],
 "metadata": {
  "language_info": {
   "name": "python"
  }
 },
 "nbformat": 4,
 "nbformat_minor": 2
}
